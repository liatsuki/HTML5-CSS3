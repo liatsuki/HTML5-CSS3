{
  "nbformat": 4,
  "nbformat_minor": 0,
  "metadata": {
    "colab": {
      "provenance": [],
      "toc_visible": true,
      "authorship_tag": "ABX9TyP2tUry32xkDg8i4GmaltDC",
      "include_colab_link": true
    },
    "kernelspec": {
      "name": "python3",
      "display_name": "Python 3"
    },
    "language_info": {
      "name": "python"
    }
  },
  "cells": [
    {
      "cell_type": "markdown",
      "metadata": {
        "id": "view-in-github",
        "colab_type": "text"
      },
      "source": [
        "<a href=\"https://colab.research.google.com/github/liatsuki/HTML5-CSS3/blob/main/HTML5%2BCSS3.ipynb\" target=\"_parent\"><img src=\"https://colab.research.google.com/assets/colab-badge.svg\" alt=\"Open In Colab\"/></a>"
      ]
    },
    {
      "cell_type": "markdown",
      "source": [
        "# **Introdução**"
      ],
      "metadata": {
        "id": "QGTDJJtuIXA3"
      }
    },
    {
      "cell_type": "markdown",
      "source": [
        "**Módulos do Curso**\n",
        "\n",
        "> **M01 - Primeiros Passos HTML+CSS:** Conceitos básicos, preparação do ambiente, semântica da HTML5, textos, títulos, ligações, multimédia,estilos.\n",
        "\n",
        "> **M02 - Deixando as coisas mais bonitas:** Fundamentos do design, psicologia das cores, tipografia, elementos CSS, modelo de caixas, wireframe, responsividade.\n",
        "\n",
        "> **M03 - Colocando um protótipo no ar:** Versionamento de software, hospedagem de sites estáticos, tabelas.\n",
        "\n",
        "> **M04 - Aprofundamento os conhecimentos:** Quadros em linha, formulários, media queries, mobile first.\n",
        "\n",
        "> **M05 - Novas tecnologias:** Flexbox, Grid Layout, projecto final.\n",
        "\n",
        "\n",
        "\n",
        "\n",
        "\n",
        "\n",
        "\n",
        "\n",
        "\n",
        "\n",
        "\n",
        "\n"
      ],
      "metadata": {
        "id": "nZ9rRhHTEVBB"
      }
    },
    {
      "cell_type": "markdown",
      "source": [
        "**Repositórios Públicos**:\n",
        "*   https://github.com/gustavoguanabara\n",
        "*   https://gustavoguanabara.github.io"
      ],
      "metadata": {
        "id": "HV6O5VPsDZVk"
      }
    },
    {
      "cell_type": "markdown",
      "source": [
        "# **Módulo 1**"
      ],
      "metadata": {
        "id": "ti_vJoyeJ-fd"
      }
    },
    {
      "cell_type": "markdown",
      "source": [
        "**Bibliografia Recomendada**\n",
        "\n",
        "*   https://github.com/gustavoguanabara/html-css/tree/master/aulas-pdf"
      ],
      "metadata": {
        "id": "X2GwdDWSO6lt"
      }
    },
    {
      "cell_type": "markdown",
      "source": [
        "**Referências Online** - *Manual Oficial das Linguagens*\n",
        "\n",
        "*   Referência MDN - Mozilla Developer Network - referência completa de HTML, CSS.\n",
        "*   W3C Standards - World Wide Web Consortium - referência oficial, consórcio oficial da WWW (World Wide Web)\n",
        "*   WHATWG Living Standard - Wab Hypertext Application Technology Working Group - grupo de estudo para evolução da linguagem HTML\n",
        "*   W3Schools - Refsnes Data"
      ],
      "metadata": {
        "id": "sQSE6bgrPz49"
      }
    },
    {
      "cell_type": "markdown",
      "source": [
        "**Livros**\n",
        "*   HTML5 - Up and Running - Mark Pilgrim\n",
        "*   CSS - The Definitive Guide - Eric Meyer\n",
        "*   Flexbox in CSS - Estelle Weyl\n",
        "*   Grid Layout in CSS - Eric Meyer"
      ],
      "metadata": {
        "id": "0Vgl41doSMiZ"
      }
    },
    {
      "cell_type": "markdown",
      "source": [
        "*   HTML5 e CSS3 - Elizabeth Castro e Bruce Hyslop - Guia Prático e Visual de HTML5 e CSS3\n",
        "*   HTML&CSS - Jon Duckett\n",
        "*   HTML e CSS - Elisabeth Robson e Eric Freeman\n",
        "*   Crie seu próprio site - um guia em quadrinhos para HTML CSS e Wordpress - Nate Cooper e Kim Gee - dedicado mais para os mais jovens"
      ],
      "metadata": {
        "id": "SN9SrOmOPGSA"
      }
    },
    {
      "cell_type": "markdown",
      "source": [
        "*Mauricio Samy Silva*\n",
        "*   HTML5 - A linguagem de marcação que revolucionou a web\n",
        "*   Desenvolve aplicações web profissionais com uso dos poderosos recursos de estilização das CSS3\n",
        "*   Fundamentos de HTML5 e CSS3\n",
        "*   CSS - Grid Layout"
      ],
      "metadata": {
        "id": "3MT-zIbbQjon"
      }
    },
    {
      "cell_type": "markdown",
      "source": [
        "**Livros de Design**\n",
        "*   Curso de design gráfico - Princípios e Práticas - David Dabner e outros\n",
        "*   Design - Bob e Maggie Gordon\n",
        "*   A psicologia das Cores - Eva Heller\n",
        "*   Pensar com Tipos - Ellen Lupton"
      ],
      "metadata": {
        "id": "KImdu5jKRU8P"
      }
    },
    {
      "cell_type": "markdown",
      "source": [
        "**Outros Livros** - *podem não estar muito bem atualizados*\n",
        "*   Flexbox - Explain - Jorge Montoya e Stephen Burge\n",
        "*   CSS Grid - Explain - Jorge Montoya e Stephen Burge\n",
        "*   Smashing HTML5 - Bill Sanders\n",
        "*   Smashing CSS - Eric Meyer"
      ],
      "metadata": {
        "id": "veLFIcYNTAjf"
      }
    },
    {
      "cell_type": "markdown",
      "source": [
        "***Anotar depois a parte do funcionamento da Internet***"
      ],
      "metadata": {
        "id": "yaZa8uT_XjLe"
      }
    },
    {
      "cell_type": "markdown",
      "source": [
        "## **Estrutura básica de documento HTML**"
      ],
      "metadata": {
        "id": "h2oFcC9nl8tH"
      }
    },
    {
      "cell_type": "code",
      "source": [
        "<!DOCTYPE html> <!-- para dizer ao navegador que vai desenvolver em HTML5 -->\n",
        "<html lang=\"pt-br\"> <!-- para dizer que o conteúdo está em português -->\n",
        "\n",
        "  <head> <!-- área de configurações -->\n",
        "    <meta charset=\"UTF-8\"> <!-- significa que o website será compativel com caracteres de UTF-8, por exemplo, compativel com acentuação -->\n",
        "    <meta name=\"viewport\"\n",
        "    content=\"width=device-width,\n",
        "    initial-scale=1.0\">\n",
        "  </head>\n",
        "\n",
        "  <body> <!-- área do corpo -->\n",
        "  </body>\n",
        "\n",
        "</html>"
      ],
      "metadata": {
        "id": "4A_Zxl6hnWqU"
      },
      "execution_count": null,
      "outputs": []
    }
  ]
}